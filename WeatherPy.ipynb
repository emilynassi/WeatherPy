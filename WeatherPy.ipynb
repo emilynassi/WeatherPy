{
 "cells": [
  {
   "cell_type": "code",
   "execution_count": 171,
   "metadata": {
    "collapsed": true
   },
   "outputs": [],
   "source": [
    "from citipy import citipy\n",
    "import pandas as pd\n",
    "import matplotlib.pyplot as plt\n",
    "import requests\n",
    "import json\n",
    "import seaborn as sns\n",
    "import numpy as np\n"
   ]
  },
  {
   "cell_type": "code",
   "execution_count": 172,
   "metadata": {
    "collapsed": true
   },
   "outputs": [],
   "source": [
    "#Configure api\n",
    "#OpenWeatherMap Api Key\n",
    "key = \"49c24c842b9d4d0b54cebb8d05e21c7d\"\n",
    "url = \"http://api.openweathermap.org/data/2.5/weather?\"\n",
    "units = \"Imperial\" "
   ]
  },
  {
   "cell_type": "code",
   "execution_count": 194,
   "metadata": {},
   "outputs": [],
   "source": [
    "#Set up list of randomly generated longitude and latitude\n",
    "citydf = pd.DataFrame()\n",
    "citydf[\"Latitude\"] = [(np.random.uniform(-90, 90)) for x in range (1500)]\n",
    "citydf[\"Longitude\"]  = [(np.random.uniform(-180, 180)) for x in range (1500)]\n",
    "\n",
    "city_list = []\n",
    "for index, row in citydf.iterrows():\n",
    "    city=citipy.nearest_city(row[\"Latitude\"],row[\"Longitude\"])\n",
    "    city_list.append(city.city_name)\n",
    "citydf[\"City\"] = city_list\n",
    "\n",
    "#Reorder columns\n"
   ]
  },
  {
   "cell_type": "code",
   "execution_count": null,
   "metadata": {
    "collapsed": true
   },
   "outputs": [],
   "source": []
  },
  {
   "cell_type": "code",
   "execution_count": null,
   "metadata": {
    "collapsed": true
   },
   "outputs": [],
   "source": []
  }
 ],
 "metadata": {
  "kernelspec": {
   "display_name": "Python 3",
   "language": "python",
   "name": "python3"
  },
  "language_info": {
   "codemirror_mode": {
    "name": "ipython",
    "version": 3
   },
   "file_extension": ".py",
   "mimetype": "text/x-python",
   "name": "python",
   "nbconvert_exporter": "python",
   "pygments_lexer": "ipython3",
   "version": "3.6.3"
  }
 },
 "nbformat": 4,
 "nbformat_minor": 2
}
